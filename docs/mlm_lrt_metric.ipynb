{
 "cells": [
  {
   "cell_type": "markdown",
   "id": "83b24837",
   "metadata": {
    "pycharm": {
     "name": "#%% md\n"
    }
   },
   "source": [
    "# Auditing an MLM trained on WikiText using an LRT Attack"
   ]
  },
  {
   "cell_type": "markdown",
   "id": "b8ed55c1",
   "metadata": {
    "pycharm": {
     "name": "#%% md\n"
    }
   },
   "source": [
    "## Introduction\n",
    "\n",
    "In this tutorial, we will see:\n",
    "\n",
    "- How to specify the dataset and model for Privacy Meter\n",
    "- How to audit a HuggingFace masked language model\n",
    "- How to create and use a new metric called `LrtMetric` to evaluate membership leakage using custom likelihood ratio values using the target model and a reference model\n",
    "- How to visualize the audit result"
   ]
  },
  {
   "cell_type": "markdown",
   "id": "73dfc8ee",
   "metadata": {
    "pycharm": {
     "name": "#%% md\n"
    }
   },
   "source": [
    "## Imports"
   ]
  },
  {
   "cell_type": "code",
   "execution_count": 1,
   "id": "e571ad5b",
   "metadata": {
    "pycharm": {
     "name": "#%%\n"
    }
   },
   "outputs": [],
   "source": [
    "import sys\n",
    "import numpy as np\n",
    "import torch"
   ]
  },
  {
   "cell_type": "code",
   "execution_count": null,
   "id": "9ee7e3da",
   "metadata": {
    "pycharm": {
     "name": "#%%\n"
    }
   },
   "outputs": [],
   "source": [
    "!{sys.executable} -m pip install datasets\n",
    "!{sys.executable} -m pip install transformers\n",
    "from datasets import load_dataset\n",
    "from transformers import AutoModelForCausalLM, AutoTokenizer, TrainingArguments, Trainer"
   ]
  },
  {
   "cell_type": "code",
   "execution_count": 3,
   "id": "0c1b127a",
   "metadata": {},
   "outputs": [
    {
     "name": "stdout",
     "output_type": "stream",
     "text": [
      "Obtaining file:///Users/aadyaamaddi/Desktop/ML%20Privacy%20Meter/privacy_meter\n",
      "Installing collected packages: privacy-meter\n",
      "  Attempting uninstall: privacy-meter\n",
      "    Found existing installation: privacy-meter 1.0\n",
      "    Uninstalling privacy-meter-1.0:\n",
      "      Successfully uninstalled privacy-meter-1.0\n",
      "  Running setup.py develop for privacy-meter\n",
      "Successfully installed privacy-meter-1.0\n"
     ]
    }
   ],
   "source": [
    "!{sys.executable} -m pip install -e ../.\n",
    "from privacy_meter.audit import Audit\n",
    "from privacy_meter.audit_report import ROCCurveReport, SignalHistogramReport\n",
    "from privacy_meter.constants import *\n",
    "from privacy_meter.dataset import Dataset\n",
    "from privacy_meter.hypothesis_test import threshold_func\n",
    "from privacy_meter.information_source import InformationSource\n",
    "from privacy_meter.information_source_signal import Signal, ModelMaskedLoss\n",
    "from privacy_meter.metric import Metric\n",
    "from privacy_meter.metric_result import MetricResult\n",
    "from privacy_meter.model import HuggingFaceMaskedLanguageModel\n",
    "from privacy_meter.utils import flatten_array"
   ]
  },
  {
   "cell_type": "markdown",
   "id": "d7802f1e",
   "metadata": {
    "pycharm": {
     "name": "#%% md\n"
    }
   },
   "source": [
    "## Settings"
   ]
  },
  {
   "cell_type": "markdown",
   "id": "d9d12b56",
   "metadata": {
    "pycharm": {
     "name": "#%% md\n"
    }
   },
   "source": [
    "Setting seed for reproducibility:"
   ]
  },
  {
   "cell_type": "code",
   "execution_count": 4,
   "id": "7f6f914c",
   "metadata": {
    "pycharm": {
     "name": "#%%\n"
    }
   },
   "outputs": [],
   "source": [
    "seed = 1234\n",
    "np.random.seed(seed)\n",
    "rng = np.random.default_rng(seed=seed)"
   ]
  },
  {
   "cell_type": "markdown",
   "id": "44ee72a9",
   "metadata": {
    "pycharm": {
     "name": "#%% md\n"
    }
   },
   "source": [
    "Hyperparameters:"
   ]
  },
  {
   "cell_type": "code",
   "execution_count": 5,
   "id": "c787a5d0",
   "metadata": {
    "pycharm": {
     "name": "#%%\n"
    }
   },
   "outputs": [],
   "source": [
    "# for the target and reference models\n",
    "num_train_data = 25\n",
    "num_test_data = 25\n",
    "loss_fn = torch.nn.CrossEntropyLoss()\n",
    "prob_mask = 0.15\n",
    "num_times_mask = 20\n",
    "stride = 64"
   ]
  },
  {
   "cell_type": "code",
   "execution_count": 6,
   "id": "90266375",
   "metadata": {
    "pycharm": {
     "name": "#%%\n"
    }
   },
   "outputs": [],
   "source": [
    "# for the LRT metric\n",
    "num_reference_models = 1\n",
    "fpr_tolerance_list = [\n",
    "    0.0, 0.1, 0.2, 0.3, 0.4, 0.5, 0.6, 0.7, 0.8, 0.9, 1.0\n",
    "]"
   ]
  },
  {
   "cell_type": "markdown",
   "id": "81af2c28",
   "metadata": {
    "pycharm": {
     "name": "#%% md\n"
    }
   },
   "source": [
    "## Load dataset and models using HuggingFace "
   ]
  },
  {
   "cell_type": "markdown",
   "id": "edef2088",
   "metadata": {},
   "source": [
    "We load the WikiText dataset using the `datasets` module in HuggingFace:"
   ]
  },
  {
   "cell_type": "code",
   "execution_count": 7,
   "id": "51a98144",
   "metadata": {},
   "outputs": [
    {
     "name": "stderr",
     "output_type": "stream",
     "text": [
      "Reusing dataset wikitext (/Users/aadyaamaddi/.cache/huggingface/datasets/wikitext/wikitext-103-v1/1.0.0/aa5e094000ec7afeb74c3be92c88313cd6f132d564c7effd961c10fd47c76f20)\n"
     ]
    },
    {
     "data": {
      "application/vnd.jupyter.widget-view+json": {
       "model_id": "117e21834e324424a5b3efafaee2b436",
       "version_major": 2,
       "version_minor": 0
      },
      "text/plain": [
       "  0%|          | 0/3 [00:00<?, ?it/s]"
      ]
     },
     "metadata": {},
     "output_type": "display_data"
    }
   ],
   "source": [
    "from datasets import load_dataset\n",
    "hf_dataset = load_dataset('wikitext', 'wikitext-103-v1')"
   ]
  },
  {
   "cell_type": "markdown",
   "id": "045c64a2",
   "metadata": {},
   "source": [
    "Next, we load the pre-trained target and reference models using the helper classes `AutoTokenizer` and `AutoModelForMaskedLM` in the `transformers` module in HuggingFace:"
   ]
  },
  {
   "cell_type": "code",
   "execution_count": 8,
   "id": "38271157",
   "metadata": {},
   "outputs": [],
   "source": [
    "from transformers import AutoTokenizer, AutoModelForMaskedLM\n",
    "\n",
    "target_tokenizer = AutoTokenizer.from_pretrained(\"saghar/TinyBERT_General_6L_768D-finetuned-wikitext103\")\n",
    "target_model = AutoModelForMaskedLM.from_pretrained(\"saghar/TinyBERT_General_6L_768D-finetuned-wikitext103\")\n",
    "\n",
    "reference_tokenizer = AutoTokenizer.from_pretrained(\"saghar/MiniLMv2-L6-H384-distilled-from-RoBERTa-Large-finetuned-wikitext103\")\n",
    "reference_model = AutoModelForMaskedLM.from_pretrained(\"saghar/MiniLMv2-L6-H384-distilled-from-RoBERTa-Large-finetuned-wikitext103\")"
   ]
  },
  {
   "cell_type": "markdown",
   "id": "84c8f726",
   "metadata": {},
   "source": [
    "We process the raw dataset to be compatible with the models. This includes filtering out empty sequences, tokenizing the dataset for both the target and reference models, and batching the dataset:"
   ]
  },
  {
   "cell_type": "code",
   "execution_count": null,
   "id": "6e9843c4",
   "metadata": {},
   "outputs": [],
   "source": [
    "# remove empty rows from dataset\n",
    "hf_dataset = hf_dataset.filter(lambda elem: len(elem[\"text\"]) > 0)"
   ]
  },
  {
   "cell_type": "code",
   "execution_count": null,
   "id": "7db5f323",
   "metadata": {},
   "outputs": [],
   "source": [
    "# tokenize function for target model\n",
    "def target_tokenize_fn(examples):\n",
    "    return target_tokenizer(examples[\"text\"])\n",
    "\n",
    "# tokenize function for reference model\n",
    "def reference_tokenize_fn(examples):\n",
    "    return reference_tokenizer(examples[\"text\"])\n",
    "\n",
    "tokenized_target_hf_dataset = hf_dataset.map(\n",
    "    target_tokenize_fn, batched=True, num_proc=2, remove_columns=[\"text\"]\n",
    ")\n",
    "\n",
    "tokenized_reference_hf_dataset = hf_dataset.map(\n",
    "    reference_tokenize_fn, batched=True, num_proc=2, remove_columns=[\"text\"]\n",
    ")"
   ]
  },
  {
   "cell_type": "code",
   "execution_count": null,
   "id": "c81dde72",
   "metadata": {},
   "outputs": [],
   "source": [
    "# batch dataset\n",
    "block_size = 128\n",
    "def group_texts(examples):\n",
    "    # Concatenate all texts.\n",
    "    concatenated_examples = {k: sum(examples[k], []) for k in examples.keys()}\n",
    "    total_length = len(concatenated_examples[list(examples.keys())[0]])\n",
    "    \n",
    "    total_length = (total_length // block_size) * block_size\n",
    "    \n",
    "    # Split by chunks of max_len.\n",
    "    result = {\n",
    "        k: [t[i : i + block_size] for i in range(0, total_length, block_size)]\n",
    "        for k, t in concatenated_examples.items()\n",
    "    }\n",
    "    \n",
    "    result[\"labels\"] = result[\"input_ids\"].copy()\n",
    "    return result\n",
    "\n",
    "lm_target_hf_dataset = tokenized_target_hf_dataset.map(\n",
    "    group_texts, batched=True, batch_size=64, num_proc=2\n",
    ")\n",
    "\n",
    "lm_reference_hf_dataset = tokenized_reference_hf_dataset.map(\n",
    "    group_texts, batched=True, batch_size=64, num_proc=2\n",
    ")"
   ]
  },
  {
   "cell_type": "markdown",
   "id": "4e9944b1",
   "metadata": {},
   "source": [
    "We split the dataset into train and test for both the target and reference models:"
   ]
  },
  {
   "cell_type": "code",
   "execution_count": 12,
   "id": "5b834918",
   "metadata": {
    "pycharm": {
     "name": "#%%\n"
    }
   },
   "outputs": [],
   "source": [
    "# split into train and test for target model\n",
    "target_train_split = lm_target_hf_dataset[\"train\"].select(range(num_train_data))\n",
    "target_test_split =  lm_target_hf_dataset[\"test\"].select(range(num_test_data))\n",
    "\n",
    "# split into train and test for reference model\n",
    "# note: we create new objects for the reference model because it can use a different tokenizer,\n",
    "#       but the original text for the sequences will be the same as they are for the target model\n",
    "reference_train_split = lm_reference_hf_dataset[\"train\"].select(range(num_train_data))\n",
    "reference_test_split =  lm_reference_hf_dataset[\"test\"].select(range(num_test_data))"
   ]
  },
  {
   "cell_type": "markdown",
   "id": "206ca059",
   "metadata": {},
   "source": [
    "We set the format of the dataset splits as `numpy` arrays, so we can use them with Privacy Meter `Dataset` objects:"
   ]
  },
  {
   "cell_type": "code",
   "execution_count": 13,
   "id": "746adb09",
   "metadata": {},
   "outputs": [],
   "source": [
    "# set format of datasets to be compatible with Privacy Meter\n",
    "target_train_split.set_format(\"numpy\")\n",
    "target_test_split.set_format(\"numpy\")\n",
    "reference_train_split.set_format(\"numpy\")\n",
    "reference_test_split.set_format(\"numpy\")"
   ]
  },
  {
   "cell_type": "markdown",
   "id": "940dccb4",
   "metadata": {},
   "source": [
    "Finally, we create `Dataset` objects for both the target and reference models:"
   ]
  },
  {
   "cell_type": "code",
   "execution_count": 14,
   "id": "e686ae81",
   "metadata": {},
   "outputs": [],
   "source": [
    "# create Dataset for target model\n",
    "train_ds = {'input': target_train_split['input_ids']}\n",
    "test_ds = {'input': target_test_split['input_ids']}\n",
    "target_dataset = Dataset(\n",
    "    data_dict={'train': train_ds, 'test': test_ds},\n",
    "    default_input='input',\n",
    "    default_output=None\n",
    ")"
   ]
  },
  {
   "cell_type": "code",
   "execution_count": 15,
   "id": "5145d589",
   "metadata": {},
   "outputs": [],
   "source": [
    "# create Dataset for reference model\n",
    "train_ds = {'input': reference_train_split['input_ids']}\n",
    "test_ds = {'input': reference_test_split['input_ids']}\n",
    "reference_dataset = Dataset(\n",
    "    data_dict={'train': train_ds, 'test': test_ds},\n",
    "    default_input='input',\n",
    "    default_output=None\n",
    ")"
   ]
  },
  {
   "cell_type": "markdown",
   "id": "ec5f2da0",
   "metadata": {},
   "source": [
    "Additionally, we use the `HuggingFaceMaskedLanguageModel` class defined in Privacy Meter's `model.py` to create wrapper objects for querying these models conveniently:"
   ]
  },
  {
   "cell_type": "code",
   "execution_count": 16,
   "id": "9a499abd",
   "metadata": {
    "pycharm": {
     "name": "#%%\n"
    }
   },
   "outputs": [],
   "source": [
    "# create Privacy Meter compatible wrapper objects for the models\n",
    "wrapped_target_model = HuggingFaceMaskedLanguageModel(model_obj=target_model, loss_fn=loss_fn,\n",
    "                                                      tokenizer=target_tokenizer,\n",
    "                                                      prob_mask=prob_mask,\n",
    "                                                      num_times_mask=num_times_mask,\n",
    "                                                      stride=stride)\n",
    "wrapped_reference_model = HuggingFaceMaskedLanguageModel(model_obj=reference_model, loss_fn=loss_fn,\n",
    "                                                         tokenizer=reference_tokenizer,\n",
    "                                                         prob_mask=prob_mask, \n",
    "                                                         num_times_mask=num_times_mask,\n",
    "                                                         stride=stride)"
   ]
  },
  {
   "cell_type": "markdown",
   "id": "3b2cf473",
   "metadata": {
    "pycharm": {
     "name": "#%% md\n"
    }
   },
   "source": [
    "## Information Sources\n",
    "\n",
    "We can now define two `InformationSource` objects. Basically, an information source is an abstraction representing a set of models, and their corresponding dataset."
   ]
  },
  {
   "cell_type": "code",
   "execution_count": 17,
   "id": "15ffcbae",
   "metadata": {
    "pycharm": {
     "name": "#%%\n"
    }
   },
   "outputs": [],
   "source": [
    "target_info_source = InformationSource(\n",
    "    models=[wrapped_target_model],\n",
    "    datasets=[target_dataset]\n",
    ")\n",
    "\n",
    "reference_info_source = InformationSource(\n",
    "    models=[wrapped_reference_model],\n",
    "    datasets=[reference_dataset]\n",
    ")"
   ]
  },
  {
   "cell_type": "markdown",
   "id": "4b83dd40",
   "metadata": {
    "pycharm": {
     "name": "#%% md\n"
    }
   },
   "source": [
    "## Metric and Audit\n",
    "\n",
    "We now create a `Metric` object, which is an abstraction representing an algorithm used to measure something on an `InformationSource`, such as membership information leakage. We define a new metric called the `LrtMetric` to measure the membership information leakage of `target_info_source` in a black-box setting, using likelihood ratio values constructed using loss returned by the target and reference models on the target dataset.\n",
    "\n",
    "The `Audit` object is a wrapper to actually run the audit, and display the results.\n",
    "\n",
    "Given below is the custom `LrtMetric` class:"
   ]
  },
  {
   "cell_type": "code",
   "execution_count": 18,
   "id": "67ac3792",
   "metadata": {},
   "outputs": [],
   "source": [
    "from typing import Callable, Optional, List, Tuple, Union\n",
    "\n",
    "class LrtMetric(Metric):\n",
    "    \"\"\"\n",
    "    Inherits from the Metric class to perform the LRT membership inference attack which will be used as a metric\n",
    "    for measuring privacy leakage of a target model.\n",
    "    \"\"\"\n",
    "\n",
    "    def __init__(\n",
    "            self,\n",
    "            target_info_source: InformationSource,\n",
    "            reference_info_source: InformationSource,\n",
    "            signals: List[Signal],\n",
    "            hypothesis_test_func: Optional[Callable],\n",
    "            target_model_to_train_split_mapping: List[Tuple[int, str, str, str]] = None,\n",
    "            target_model_to_test_split_mapping: List[Tuple[int, str, str, str]] = None,\n",
    "            reference_model_to_train_split_mapping: List[Tuple[int, str, str, str]] = None,\n",
    "            reference_model_to_test_split_mapping: List[Tuple[int, str, str, str]] = None,\n",
    "            unique_dataset: bool = False,\n",
    "            logs_dirname: str = None\n",
    "    ):\n",
    "        \"\"\"\n",
    "        Constructor\n",
    "\n",
    "        Args:\n",
    "            target_info_source: InformationSource, containing the Model that the metric will be performed on, and the\n",
    "                corresponding Dataset.\n",
    "            reference_info_source: List of InformationSource(s), containing the Model(s) that the metric will be\n",
    "                fitted on, and their corresponding Dataset.\n",
    "            signals: List of signals to be used.\n",
    "            hypothesis_test_func: Function that will be used for computing attack threshold(s)\n",
    "            target_model_to_train_split_mapping: Mapping from the target model to the train split of the target dataset.\n",
    "                By default, the code will look for a split named \"train\"\n",
    "            target_model_to_test_split_mapping: Mapping from the target model to the test split of the target dataset.\n",
    "                By default, the code will look for a split named \"test\"\n",
    "            reference_model_to_train_split_mapping: Mapping from the reference models to their train splits of the\n",
    "                corresponding reference dataset. By default, the code will look for a split named \"train\"\n",
    "            reference_model_to_test_split_mapping: Mapping from the reference models to their test splits of the\n",
    "                corresponding reference dataset. By default, the code will look for a split named \"test\"\n",
    "            unique_dataset: Boolean indicating if target_info_source and target_info_source use one same dataset object.\n",
    "        \"\"\"\n",
    "\n",
    "        # Initializes the parent metric\n",
    "        super().__init__(target_info_source=target_info_source,\n",
    "                         reference_info_source=reference_info_source,\n",
    "                         signals=signals,\n",
    "                         hypothesis_test_func=hypothesis_test_func,\n",
    "                         logs_dirname=logs_dirname)\n",
    "\n",
    "        # Logs directory\n",
    "        self.logs_dirname = logs_dirname\n",
    "\n",
    "        # Store the model to split mappings\n",
    "        self.target_model_to_train_split_mapping = target_model_to_train_split_mapping\n",
    "        self.target_model_to_test_split_mapping = target_model_to_test_split_mapping\n",
    "\n",
    "        # Custom default mapping for the reference metric\n",
    "        if reference_model_to_train_split_mapping is None:\n",
    "            self.reference_model_to_train_split_mapping = [\n",
    "                                                              (0, 'train', '<default_input>', '<default_output>')\n",
    "                                                          ] * len(self.reference_info_source.models)\n",
    "        if reference_model_to_test_split_mapping is None:\n",
    "            self.reference_model_to_test_split_mapping = [\n",
    "                                                             (0, 'test', '<default_input>', '<default_output>')\n",
    "                                                         ] * len(self.reference_info_source.models)\n",
    "\n",
    "        self._set_default_mappings(unique_dataset)\n",
    "\n",
    "        # Variables used in prepare_metric and run_metric\n",
    "        self.member_signals, self.non_member_signals = [], []\n",
    "        self.reference_member_signals, self.reference_non_member_signals = [], []\n",
    "        self.pointwise_member_thresholds, self.pointwise_non_member_thresholds = [], []\n",
    "\n",
    "    def prepare_metric(self):\n",
    "        \"\"\"\n",
    "        Function to prepare data needed for running the metric on the target model and dataset, using signals computed\n",
    "        on the reference model(s) and dataset. For the reference attack, the reference models will be a list of models\n",
    "        trained on data from the same distribution, and the reference dataset will be the target model's train-test\n",
    "        split.\n",
    "        \"\"\"\n",
    "        # Load signals if they have been computed already; otherwise, compute and save them\n",
    "        self.member_signals = flatten_array(self._load_or_compute_signal(SignalSourceEnum.TARGET_MEMBER))\n",
    "        self.non_member_signals = flatten_array(self._load_or_compute_signal(SignalSourceEnum.TARGET_NON_MEMBER))\n",
    "        self.reference_member_signals = np.array(\n",
    "            self._load_or_compute_signal(SignalSourceEnum.REFERENCE_MEMBER)[0]).transpose()\n",
    "        self.reference_non_member_signals = np.array(\n",
    "            self._load_or_compute_signal(SignalSourceEnum.REFERENCE_NON_MEMBER)[0]).transpose()\n",
    "\n",
    "    def run_metric(self, fpr_tolerance_rate_list=None) -> List[MetricResult]:\n",
    "        \"\"\"\n",
    "        Function to run the metric on the target model and dataset.\n",
    "\n",
    "        Args:\n",
    "            fpr_tolerance_rate_list (optional): List of FPR tolerance values that may be used by the threshold function\n",
    "                to compute the attack threshold for the metric.\n",
    "\n",
    "        Returns:\n",
    "            A list of MetricResult objects, one per fpr value.\n",
    "        \"\"\"\n",
    "        lrt_signals = self.non_member_signals - self.reference_non_member_signals\n",
    "            \n",
    "        metric_result_list = []\n",
    "        for fpr_tolerance_rate in fpr_tolerance_rate_list:   \n",
    "            # Use global threshold\n",
    "            threshold = self.hypothesis_test_func(lrt_signals, fpr_tolerance_rate)\n",
    "                \n",
    "            member_lrt_values, member_preds = [], []\n",
    "            for idx, signal in enumerate(self.member_signals):\n",
    "                lrt_value = signal - self.reference_member_signals[idx]\n",
    "                if lrt_value <= threshold:\n",
    "                    member_preds.append(1)\n",
    "                else:\n",
    "                    member_preds.append(0)\n",
    "                member_lrt_values.append(lrt_value)\n",
    "\n",
    "            non_member_lrt_values, non_member_preds = [], []\n",
    "            for idx, signal in enumerate(self.non_member_signals):\n",
    "                lrt_value = signal - self.reference_non_member_signals[idx]\n",
    "                if lrt_value <= threshold:\n",
    "                    non_member_preds.append(1)\n",
    "                else:\n",
    "                    non_member_preds.append(0)\n",
    "                non_member_lrt_values.append(lrt_value)\n",
    "\n",
    "            predictions = np.concatenate([member_preds, non_member_preds])\n",
    "\n",
    "            true_labels = [1] * len(self.member_signals)\n",
    "            true_labels.extend([0] * len(self.non_member_signals))\n",
    "            \n",
    "            signal_values = np.concatenate([member_lrt_values, non_member_lrt_values])\n",
    "\n",
    "            metric_result = MetricResult(metric_id=MetricEnum.LRT.value,\n",
    "                                         predicted_labels=predictions,\n",
    "                                         true_labels=true_labels,\n",
    "                                         predictions_proba=None,\n",
    "                                         signal_values=signal_values)\n",
    "\n",
    "            metric_result_list.append(metric_result)\n",
    "\n",
    "        return metric_result_list"
   ]
  },
  {
   "cell_type": "markdown",
   "id": "b95b76fd",
   "metadata": {},
   "source": [
    "We create the `LrtMetric` and `Audit` objects:"
   ]
  },
  {
   "cell_type": "code",
   "execution_count": 19,
   "id": "da9464f4",
   "metadata": {},
   "outputs": [],
   "source": [
    "lrt_metric = LrtMetric(\n",
    "    target_info_source=target_info_source,\n",
    "    reference_info_source=reference_info_source,\n",
    "    signals=[ModelMaskedLoss()],\n",
    "    hypothesis_test_func=threshold_func,\n",
    "    logs_dirname='mlm_lrt_metric'\n",
    ")"
   ]
  },
  {
   "cell_type": "code",
   "execution_count": 20,
   "id": "68ee2a66",
   "metadata": {
    "pycharm": {
     "is_executing": true,
     "name": "#%%\n"
    }
   },
   "outputs": [],
   "source": [
    "audit_obj = Audit(\n",
    "    metrics=[lrt_metric],\n",
    "    inference_game_type=InferenceGame.PRIVACY_LOSS_MODEL,\n",
    "    target_info_sources=[target_info_source],\n",
    "    reference_info_sources=[reference_info_source],\n",
    "    fpr_tolerances=fpr_tolerance_list\n",
    ")\n",
    "audit_obj.prepare()"
   ]
  },
  {
   "cell_type": "markdown",
   "id": "226d0543",
   "metadata": {},
   "source": [
    "We run the audit and display the performance of our metric:"
   ]
  },
  {
   "cell_type": "code",
   "execution_count": 21,
   "id": "263c53b1",
   "metadata": {
    "pycharm": {
     "is_executing": true,
     "name": "#%%\n"
    }
   },
   "outputs": [
    {
     "name": "stdout",
     "output_type": "stream",
     "text": [
      "Results are stored in: ['/Users/aadyaamaddi/Desktop/ML Privacy Meter/privacy_meter/docs/log_2022-06-27_18-36-28-000']\n",
      "============= METRIC RESULT OBJECT =============\n",
      "Accuracy          = 0.5\n",
      "ROC AUC Score     = 0.5\n",
      "FPR               = 0.0\n",
      "TN, FP, FN, TP    = (25, 0, 25, 0)\n",
      "============= METRIC RESULT OBJECT =============\n",
      "Accuracy          = 0.54\n",
      "ROC AUC Score     = 0.54\n",
      "FPR               = 0.12\n",
      "TN, FP, FN, TP    = (22, 3, 20, 5)\n",
      "============= METRIC RESULT OBJECT =============\n",
      "Accuracy          = 0.5\n",
      "ROC AUC Score     = 0.5\n",
      "FPR               = 0.24\n",
      "TN, FP, FN, TP    = (19, 6, 19, 6)\n",
      "============= METRIC RESULT OBJECT =============\n",
      "Accuracy          = 0.52\n",
      "ROC AUC Score     = 0.52\n",
      "FPR               = 0.24\n",
      "TN, FP, FN, TP    = (19, 6, 18, 7)\n",
      "============= METRIC RESULT OBJECT =============\n",
      "Accuracy          = 0.6\n",
      "ROC AUC Score     = 0.6\n",
      "FPR               = 0.28\n",
      "TN, FP, FN, TP    = (18, 7, 13, 12)\n",
      "============= METRIC RESULT OBJECT =============\n",
      "Accuracy          = 0.66\n",
      "ROC AUC Score     = 0.6600000000000001\n",
      "FPR               = 0.36\n",
      "TN, FP, FN, TP    = (16, 9, 8, 17)\n",
      "============= METRIC RESULT OBJECT =============\n",
      "Accuracy          = 0.64\n",
      "ROC AUC Score     = 0.64\n",
      "FPR               = 0.48\n",
      "TN, FP, FN, TP    = (13, 12, 6, 19)\n",
      "============= METRIC RESULT OBJECT =============\n",
      "Accuracy          = 0.6\n",
      "ROC AUC Score     = 0.6\n",
      "FPR               = 0.76\n",
      "TN, FP, FN, TP    = (6, 19, 1, 24)\n",
      "============= METRIC RESULT OBJECT =============\n",
      "Accuracy          = 0.54\n",
      "ROC AUC Score     = 0.54\n",
      "FPR               = 0.88\n",
      "TN, FP, FN, TP    = (3, 22, 1, 24)\n",
      "============= METRIC RESULT OBJECT =============\n",
      "Accuracy          = 0.52\n",
      "ROC AUC Score     = 0.5199999999999999\n",
      "FPR               = 0.92\n",
      "TN, FP, FN, TP    = (2, 23, 1, 24)\n",
      "============= METRIC RESULT OBJECT =============\n",
      "Accuracy          = 0.5\n",
      "ROC AUC Score     = 0.5\n",
      "FPR               = 1.0\n",
      "TN, FP, FN, TP    = (0, 25, 0, 25)\n"
     ]
    }
   ],
   "source": [
    "audit_results = audit_obj.run()[0]\n",
    "for result in audit_results:\n",
    "    print(result)"
   ]
  },
  {
   "cell_type": "markdown",
   "id": "3eec9d4a",
   "metadata": {
    "pycharm": {
     "name": "#%% md\n"
    }
   },
   "source": [
    "## Result visualization"
   ]
  },
  {
   "cell_type": "markdown",
   "id": "a4d92efb",
   "metadata": {
    "pycharm": {
     "name": "#%% md\n"
    }
   },
   "source": [
    "Several visualization tools are built in `privacy_tool`, such as ROC curves, signal values histogram, or confusion matrix."
   ]
  },
  {
   "cell_type": "code",
   "execution_count": 22,
   "id": "11a513b2",
   "metadata": {
    "pycharm": {
     "is_executing": true,
     "name": "#%%\n"
    }
   },
   "outputs": [],
   "source": [
    "# This instruction won't be needed once the tool is on pip\n",
    "from privacy_meter import audit_report\n",
    "audit_report.REPORT_FILES_DIR = '../privacy_meter/report_files'"
   ]
  },
  {
   "cell_type": "code",
   "execution_count": 23,
   "id": "6326f16a",
   "metadata": {
    "pycharm": {
     "is_executing": true,
     "name": "#%%\n"
    }
   },
   "outputs": [
    {
     "data": {
      "image/png": "[encoded data removed]",
      "text/plain": [
       "<Figure size 432x288 with 1 Axes>"
      ]
     },
     "metadata": {
      "needs_background": "light"
     },
     "output_type": "display_data"
    },
    {
     "data": {
      "text/plain": [
       "<Figure size 432x288 with 0 Axes>"
      ]
     },
     "metadata": {},
     "output_type": "display_data"
    }
   ],
   "source": [
    "ROCCurveReport.generate_report(\n",
    "    metric_result=audit_results,\n",
    "    inference_game_type=InferenceGame.PRIVACY_LOSS_MODEL,\n",
    "    show=True\n",
    ")"
   ]
  },
  {
   "cell_type": "code",
   "execution_count": 24,
   "id": "1573603e",
   "metadata": {
    "pycharm": {
     "is_executing": true,
     "name": "#%%\n"
    }
   },
   "outputs": [
    {
     "data": {
      "image/png": "[encoded data removed]",
      "text/plain": [
       "<Figure size 432x288 with 1 Axes>"
      ]
     },
     "metadata": {
      "needs_background": "light"
     },
     "output_type": "display_data"
    },
    {
     "data": {
      "text/plain": [
       "<Figure size 432x288 with 0 Axes>"
      ]
     },
     "metadata": {},
     "output_type": "display_data"
    }
   ],
   "source": [
    "SignalHistogramReport.generate_report(\n",
    "    metric_result=result,\n",
    "    inference_game_type=InferenceGame.PRIVACY_LOSS_MODEL,\n",
    "    show=True\n",
    ")"
   ]
  }
 ],
 "metadata": {
  "kernelspec": {
   "display_name": "Python 3",
   "language": "python",
   "name": "python3"
  },
  "language_info": {
   "codemirror_mode": {
    "name": "ipython",
    "version": 3
   },
   "file_extension": ".py",
   "mimetype": "text/x-python",
   "name": "python",
   "nbconvert_exporter": "python",
   "pygments_lexer": "ipython3",
   "version": "3.6.13"
  }
 },
 "nbformat": 4,
 "nbformat_minor": 5
}
